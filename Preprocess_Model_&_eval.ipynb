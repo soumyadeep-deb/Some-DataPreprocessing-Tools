{
  "nbformat": 4,
  "nbformat_minor": 0,
  "metadata": {
    "colab": {
      "name": "Preprocess Model & eval.ipynb",
      "provenance": [],
      "collapsed_sections": [
        "LhuTg4qgG_YU",
        "N06ZdHFVGm8-",
        "9oFJ9AMCGi9S",
        "d5iUAEc8oT87"
      ]
    },
    "kernelspec": {
      "name": "python3",
      "display_name": "Python 3"
    },
    "language_info": {
      "name": "python"
    }
  },
  "cells": [
    {
      "cell_type": "code",
      "metadata": {
        "id": "ZXJDHEYKSlNv"
      },
      "source": [
        "from sklearn.utils import resample"
      ],
      "execution_count": null,
      "outputs": []
    },
    {
      "cell_type": "code",
      "metadata": {
        "id": "JPMauZvDNdcs"
      },
      "source": [
        "import pandas as pd\n",
        "import numpy as np\n",
        "import matplotlib.pyplot as plt\n",
        "import seaborn as sns\n",
        "\n",
        "df = pd.read_csv('file_name')"
      ],
      "execution_count": null,
      "outputs": []
    },
    {
      "cell_type": "markdown",
      "metadata": {
        "id": "1P2uZt6AGwZ_"
      },
      "source": [
        "##### Lifecycle of DS project:\n",
        "##### 1. Feature Engineering:  Check & Handel missing value, vusualize the data, Scale the data based on distributions\n",
        "##### 2. Plot some graphs to get an idea and do some more Feature Engineering\n",
        "##### 3. Handel Categorical data \n",
        "##### 4. Do some more cleaning"
      ]
    },
    {
      "cell_type": "code",
      "metadata": {
        "id": "Ws1UuDC8HgiW"
      },
      "source": [
        "import pandas as pd\n",
        "df=pd.read_csv('Bank_data.csv')"
      ],
      "execution_count": null,
      "outputs": []
    },
    {
      "cell_type": "markdown",
      "metadata": {
        "id": "LhuTg4qgG_YU"
      },
      "source": [
        "#### Handling missing Values\n",
        "##### **Missing value for numerical data:**\n",
        "\n",
        "##### 1. Deleting Rows with missing values : \n",
        "##### When there is a small no. of rows with miss values eg: 2% rows have miss\n",
        "\n",
        "##### 2. Impute missing values with Mean/Median:\n",
        "\n",
        "##### **For Categorical:**\n",
        "##### 1. If small amount is missing, replace with the most frequent category\n",
        "##### 2. If large amount is missing, then make the missing category a new category\n",
        "\n",
        "##### Ways to handel missing values: \n",
        "##### https://towardsdatascience.com/7-ways-to-handle-missing-values-in-machine-learning-1a6326adf79e"
      ]
    },
    {
      "cell_type": "code",
      "metadata": {
        "colab": {
          "base_uri": "https://localhost:8080/"
        },
        "id": "NgzOGbzYHGHM",
        "outputId": "36a6efa4-b13d-4216-af55-2b43b0fa4fc3"
      },
      "source": [
        "# Check for missing values: the non-zero columns have missing values\n",
        "df.isnull().sum()"
      ],
      "execution_count": null,
      "outputs": [
        {
          "output_type": "execute_result",
          "data": {
            "text/plain": [
              "RowNumber          0\n",
              "CustomerId         0\n",
              "Surname            0\n",
              "CreditScore        0\n",
              "Geography          0\n",
              "Gender             0\n",
              "Age                0\n",
              "Tenure             0\n",
              "Balance            0\n",
              "NumOfProducts      0\n",
              "HasCrCard          0\n",
              "IsActiveMember     0\n",
              "EstimatedSalary    0\n",
              "Exited             0\n",
              "dtype: int64"
            ]
          },
          "metadata": {
            "tags": []
          },
          "execution_count": 4
        }
      ]
    },
    {
      "cell_type": "code",
      "metadata": {
        "id": "oAvAlmI1MBiX"
      },
      "source": [
        "# Numerical"
      ],
      "execution_count": null,
      "outputs": []
    },
    {
      "cell_type": "code",
      "metadata": {
        "id": "i8OdmgITHwy-"
      },
      "source": [
        "# Imputation with mean / median / mode\n",
        "# For mode extra: a=df['Age'].mode()[0]\n",
        "df['Column_Name'].fillna(int(df['Column_Name'].mean()), inplace=True)  "
      ],
      "execution_count": null,
      "outputs": []
    },
    {
      "cell_type": "code",
      "metadata": {
        "id": "laNdkgvEK3ER"
      },
      "source": [
        "# Drop null rows\n",
        "# any - if any value is null, all - if all values are null\n",
        "df.dropna(axis=0, how='any', thresh=None, subset=None, inplace=False)"
      ],
      "execution_count": null,
      "outputs": []
    },
    {
      "cell_type": "code",
      "metadata": {
        "id": "SvgOhT6rHCyL"
      },
      "source": [
        "# Categorical"
      ],
      "execution_count": null,
      "outputs": []
    },
    {
      "cell_type": "code",
      "metadata": {
        "id": "CRGalqWIHCvg"
      },
      "source": [
        "# Replace with most frequent\n",
        "# find the most frequent using counts then replace\n",
        "df['Gender'].value_counts()     # Find the most frequent category\n",
        "\n",
        "df['Gender'].replace(to_replace = \"Male\", value = \"1\",inplace=True)       # Replace"
      ],
      "execution_count": null,
      "outputs": []
    },
    {
      "cell_type": "code",
      "metadata": {
        "id": "GmGo0I4hNGSZ"
      },
      "source": [
        "# Make NULL category a new category\n",
        "df['Cat_column'].replace(to_replace = np.nan, value = 'New cat')"
      ],
      "execution_count": null,
      "outputs": []
    },
    {
      "cell_type": "code",
      "metadata": {
        "id": "LF2QV_zGNGP7"
      },
      "source": [
        ""
      ],
      "execution_count": null,
      "outputs": []
    },
    {
      "cell_type": "markdown",
      "metadata": {
        "id": "N06ZdHFVGm8-"
      },
      "source": [
        "## Pandas Queries"
      ]
    },
    {
      "cell_type": "code",
      "metadata": {
        "id": "XhVnc2OTGmr7"
      },
      "source": [
        "df.query('Age>45 and Gender==\"Male\" and (Geography==\"France\" or Geography==\"Germany\") and Balance>50000')"
      ],
      "execution_count": null,
      "outputs": []
    },
    {
      "cell_type": "markdown",
      "metadata": {
        "id": "9oFJ9AMCGi9S"
      },
      "source": [
        "## Model & Evaluation"
      ]
    },
    {
      "cell_type": "code",
      "metadata": {
        "id": "RGM8hPrRGfdL"
      },
      "source": [
        "from sklearn.model_selection import train_test_split\n",
        "X_train, X_test, y_train, y_test = train_test_split(X,y, test_size = test_size, random_state = random_state )\n",
        "\n",
        "# Models\n",
        "from sklearn.naive_bayes import MultinomialNB\n",
        "from sklearn.linear_model import LogisticRegression\n",
        "from sklearn.ensemble import RandomForestClassifier\n",
        "from sklearn.svm import SVC\n",
        "\n",
        "\n",
        "\n",
        "model = MultinomialNB()\n",
        "model.fit(X_train,y_train)\n",
        "y_pred = model.predict(X_test)\n",
        "\n",
        "\n",
        "# Evaluating the model\n",
        "from sklearn.metrics import confusion_matrix,accuracy_score, precision_score, recall_score\n",
        "\n",
        "print(\"Confusion Matrix:\\n\",confusion_matrix(y_test,y_pred))\n",
        "print(\"\\nAccuracy Score:\",accuracy_score(y_test,y_pred)*100,\"%\")\n",
        "print(\"\\nPrecision Score:\",precision_score(y_test,y_pred)*100,\"%\")\n",
        "print(\"\\nRecall Score:\",recall_score(y_test,y_pred)*100,\"%\")"
      ],
      "execution_count": null,
      "outputs": []
    },
    {
      "cell_type": "markdown",
      "metadata": {
        "id": "d5iUAEc8oT87"
      },
      "source": [
        "## Scaling\n",
        "\n",
        "### For Gaussian(Normal) distribution or Log Normal distri, use Standard Scaler\n",
        "### Standard Scaler - Mean = 0 , std = 1 \n",
        "### Normalization - Values punched between 0 & 1\n",
        "\n",
        "#### Right skewed data: Apply log, sqrt, reciprocal\n",
        "#### Left skewed data: Apply square, cube, higher powers\n",
        "\n",
        "\n",
        "##### Skewness link: https://towardsdatascience.com/top-3-methods-for-handling-skewed-data-1334e0debf45"
      ]
    },
    {
      "cell_type": "code",
      "metadata": {
        "id": "jVb5iTJvzkS5"
      },
      "source": [
        "from sklearn.preprocessing import StandardScaler\n",
        "sc = StandardScaler()\n",
        "column = sc.fit_transform(column)"
      ],
      "execution_count": null,
      "outputs": []
    },
    {
      "cell_type": "code",
      "metadata": {
        "colab": {
          "base_uri": "https://localhost:8080/",
          "height": 349
        },
        "id": "-GYVzV_nuaZB",
        "outputId": "dc08fe55-3c32-4f87-9356-10f4dd87ff39"
      },
      "source": [
        "sns.distplot(df.Age,bins=10)"
      ],
      "execution_count": null,
      "outputs": [
        {
          "output_type": "stream",
          "text": [
            "/usr/local/lib/python3.7/dist-packages/seaborn/distributions.py:2557: FutureWarning: `distplot` is a deprecated function and will be removed in a future version. Please adapt your code to use either `displot` (a figure-level function with similar flexibility) or `histplot` (an axes-level function for histograms).\n",
            "  warnings.warn(msg, FutureWarning)\n"
          ],
          "name": "stderr"
        },
        {
          "output_type": "execute_result",
          "data": {
            "text/plain": [
              "<matplotlib.axes._subplots.AxesSubplot at 0x7f54abb6c690>"
            ]
          },
          "metadata": {
            "tags": []
          },
          "execution_count": 41
        },
        {
          "output_type": "display_data",
          "data": {
            "image/png": "[encoded data removed]",
            "text/plain": [
              "<Figure size 432x288 with 1 Axes>"
            ]
          },
          "metadata": {
            "tags": [],
            "needs_background": "light"
          }
        }
      ]
    },
    {
      "cell_type": "code",
      "metadata": {
        "id": "FJT2CzmmoVTB"
      },
      "source": [
        "df['Age'] = np.log(df['Age'])"
      ],
      "execution_count": null,
      "outputs": []
    },
    {
      "cell_type": "code",
      "metadata": {
        "colab": {
          "base_uri": "https://localhost:8080/",
          "height": 349
        },
        "id": "-R8fh8p8urm1",
        "outputId": "d38fda0a-8d33-432a-f0d5-052d2e231c25"
      },
      "source": [
        "sns.distplot(df.Age,bins=10)"
      ],
      "execution_count": null,
      "outputs": [
        {
          "output_type": "stream",
          "text": [
            "/usr/local/lib/python3.7/dist-packages/seaborn/distributions.py:2557: FutureWarning: `distplot` is a deprecated function and will be removed in a future version. Please adapt your code to use either `displot` (a figure-level function with similar flexibility) or `histplot` (an axes-level function for histograms).\n",
            "  warnings.warn(msg, FutureWarning)\n"
          ],
          "name": "stderr"
        },
        {
          "output_type": "execute_result",
          "data": {
            "text/plain": [
              "<matplotlib.axes._subplots.AxesSubplot at 0x7f54abba3610>"
            ]
          },
          "metadata": {
            "tags": []
          },
          "execution_count": 43
        },
        {
          "output_type": "display_data",
          "data": {
            "image/png": "[encoded data removed]",
            "text/plain": [
              "<Figure size 432x288 with 1 Axes>"
            ]
          },
          "metadata": {
            "tags": [],
            "needs_background": "light"
          }
        }
      ]
    },
    {
      "cell_type": "code",
      "metadata": {
        "colab": {
          "base_uri": "https://localhost:8080/",
          "height": 79
        },
        "id": "fUXcWQ1ZuuUB",
        "outputId": "200ef373-c573-4351-e3f0-be2469ccbba9"
      },
      "source": [
        "df.drop('colm',axis=1,inplace=True)\n",
        "df.sample(1)"
      ],
      "execution_count": null,
      "outputs": [
        {
          "output_type": "execute_result",
          "data": {
            "text/html": [
              "<div>\n",
              "<style scoped>\n",
              "    .dataframe tbody tr th:only-of-type {\n",
              "        vertical-align: middle;\n",
              "    }\n",
              "\n",
              "    .dataframe tbody tr th {\n",
              "        vertical-align: top;\n",
              "    }\n",
              "\n",
              "    .dataframe thead th {\n",
              "        text-align: right;\n",
              "    }\n",
              "</style>\n",
              "<table border=\"1\" class=\"dataframe\">\n",
              "  <thead>\n",
              "    <tr style=\"text-align: right;\">\n",
              "      <th></th>\n",
              "      <th>RowNumber</th>\n",
              "      <th>CustomerId</th>\n",
              "      <th>Surname</th>\n",
              "      <th>CreditScore</th>\n",
              "      <th>Geography</th>\n",
              "      <th>Gender</th>\n",
              "      <th>Age</th>\n",
              "      <th>Tenure</th>\n",
              "      <th>Balance</th>\n",
              "      <th>NumOfProducts</th>\n",
              "      <th>HasCrCard</th>\n",
              "      <th>IsActiveMember</th>\n",
              "      <th>EstimatedSalary</th>\n",
              "      <th>Exited</th>\n",
              "    </tr>\n",
              "  </thead>\n",
              "  <tbody>\n",
              "    <tr>\n",
              "      <th>7567</th>\n",
              "      <td>7568</td>\n",
              "      <td>15750545</td>\n",
              "      <td>Chidiebere</td>\n",
              "      <td>629</td>\n",
              "      <td>France</td>\n",
              "      <td>Male</td>\n",
              "      <td>3.78419</td>\n",
              "      <td>5</td>\n",
              "      <td>0.0</td>\n",
              "      <td>4</td>\n",
              "      <td>0</td>\n",
              "      <td>0</td>\n",
              "      <td>117572.59</td>\n",
              "      <td>1</td>\n",
              "    </tr>\n",
              "  </tbody>\n",
              "</table>\n",
              "</div>"
            ],
            "text/plain": [
              "      RowNumber  CustomerId  ... EstimatedSalary  Exited\n",
              "7567       7568    15750545  ...       117572.59       1\n",
              "\n",
              "[1 rows x 14 columns]"
            ]
          },
          "metadata": {
            "tags": []
          },
          "execution_count": 47
        }
      ]
    },
    {
      "cell_type": "markdown",
      "metadata": {
        "id": "oD8bwxahzx-l"
      },
      "source": [
        "### Left skewed data spotted"
      ]
    },
    {
      "cell_type": "code",
      "metadata": {
        "colab": {
          "base_uri": "https://localhost:8080/",
          "height": 349
        },
        "id": "wr9yvxXVvh3D",
        "outputId": "cad65210-6fd1-40d6-ec5f-d378bdaa8e17"
      },
      "source": [
        "sns.distplot(df['CreditScore'],bins=20)"
      ],
      "execution_count": null,
      "outputs": [
        {
          "output_type": "stream",
          "text": [
            "/usr/local/lib/python3.7/dist-packages/seaborn/distributions.py:2557: FutureWarning: `distplot` is a deprecated function and will be removed in a future version. Please adapt your code to use either `displot` (a figure-level function with similar flexibility) or `histplot` (an axes-level function for histograms).\n",
            "  warnings.warn(msg, FutureWarning)\n"
          ],
          "name": "stderr"
        },
        {
          "output_type": "execute_result",
          "data": {
            "text/plain": [
              "<matplotlib.axes._subplots.AxesSubplot at 0x7f54ab272f10>"
            ]
          },
          "metadata": {
            "tags": []
          },
          "execution_count": 66
        },
        {
          "output_type": "display_data",
          "data": {
            "image/png": "[encoded data removed]",
            "text/plain": [
              "<Figure size 432x288 with 1 Axes>"
            ]
          },
          "metadata": {
            "tags": [],
            "needs_background": "light"
          }
        }
      ]
    },
    {
      "cell_type": "markdown",
      "metadata": {
        "id": "VGuj2hnOz1CV"
      },
      "source": [
        "### Handeled by applying square over the column"
      ]
    },
    {
      "cell_type": "code",
      "metadata": {
        "colab": {
          "base_uri": "https://localhost:8080/",
          "height": 360
        },
        "id": "iukFLjq2v9QG",
        "outputId": "43b588c7-f870-44a2-970d-b8c91f9aa24a"
      },
      "source": [
        "d=np.square(df['CreditScore'])\n",
        "sns.distplot(d,bins=20)"
      ],
      "execution_count": null,
      "outputs": [
        {
          "output_type": "stream",
          "text": [
            "/usr/local/lib/python3.7/dist-packages/seaborn/distributions.py:2557: FutureWarning: `distplot` is a deprecated function and will be removed in a future version. Please adapt your code to use either `displot` (a figure-level function with similar flexibility) or `histplot` (an axes-level function for histograms).\n",
            "  warnings.warn(msg, FutureWarning)\n"
          ],
          "name": "stderr"
        },
        {
          "output_type": "execute_result",
          "data": {
            "text/plain": [
              "<matplotlib.axes._subplots.AxesSubplot at 0x7f54ab533cd0>"
            ]
          },
          "metadata": {
            "tags": []
          },
          "execution_count": 71
        },
        {
          "output_type": "display_data",
          "data": {
            "image/png": "[encoded data removed]",
            "text/plain": [
              "<Figure size 432x288 with 1 Axes>"
            ]
          },
          "metadata": {
            "tags": [],
            "needs_background": "light"
          }
        }
      ]
    },
    {
      "cell_type": "code",
      "metadata": {
        "id": "xptymWaXzYdZ"
      },
      "source": [
        "d = np.array(d)\n",
        "d = d.reshape(-1, 1)"
      ],
      "execution_count": null,
      "outputs": []
    },
    {
      "cell_type": "code",
      "metadata": {
        "colab": {
          "base_uri": "https://localhost:8080/",
          "height": 335
        },
        "id": "akeo_uzvwjQc",
        "outputId": "7c4a8d37-86bd-47a4-8412-5bf41804fac0"
      },
      "source": [
        "from sklearn.preprocessing import StandardScaler\n",
        "sc = StandardScaler()\n",
        "d = sc.fit_transform(d)\n",
        "\n",
        "sns.distplot(d)"
      ],
      "execution_count": null,
      "outputs": [
        {
          "output_type": "stream",
          "text": [
            "/usr/local/lib/python3.7/dist-packages/seaborn/distributions.py:2557: FutureWarning: `distplot` is a deprecated function and will be removed in a future version. Please adapt your code to use either `displot` (a figure-level function with similar flexibility) or `histplot` (an axes-level function for histograms).\n",
            "  warnings.warn(msg, FutureWarning)\n"
          ],
          "name": "stderr"
        },
        {
          "output_type": "execute_result",
          "data": {
            "text/plain": [
              "<matplotlib.axes._subplots.AxesSubplot at 0x7f54ab025a10>"
            ]
          },
          "metadata": {
            "tags": []
          },
          "execution_count": 77
        },
        {
          "output_type": "display_data",
          "data": {
            "image/png": "[encoded data removed]",
            "text/plain": [
              "<Figure size 432x288 with 1 Axes>"
            ]
          },
          "metadata": {
            "tags": [],
            "needs_background": "light"
          }
        }
      ]
    },
    {
      "cell_type": "code",
      "metadata": {
        "id": "70ZHVzeHzQjL"
      },
      "source": [
        ""
      ],
      "execution_count": null,
      "outputs": []
    }
  ]
}